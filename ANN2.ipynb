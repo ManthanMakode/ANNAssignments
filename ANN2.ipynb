{
  "nbformat": 4,
  "nbformat_minor": 0,
  "metadata": {
    "colab": {
      "provenance": [],
      "authorship_tag": "ABX9TyN7Cd/fRhjkbnpc6p3HZwC2",
      "include_colab_link": true
    },
    "kernelspec": {
      "name": "python3",
      "display_name": "Python 3"
    },
    "language_info": {
      "name": "python"
    }
  },
  "cells": [
    {
      "cell_type": "markdown",
      "metadata": {
        "id": "view-in-github",
        "colab_type": "text"
      },
      "source": [
        "<a href=\"https://colab.research.google.com/github/ManthanMakode/ANNAssignments/blob/main/ANN2.ipynb\" target=\"_parent\"><img src=\"https://colab.research.google.com/assets/colab-badge.svg\" alt=\"Open In Colab\"/></a>"
      ]
    },
    {
      "cell_type": "code",
      "execution_count": 14,
      "metadata": {
        "colab": {
          "base_uri": "https://localhost:8080/"
        },
        "id": "hAGcTEDDywR4",
        "outputId": "9cdd1c2e-233e-4054-91f1-c6447dea81df"
      },
      "outputs": [
        {
          "output_type": "stream",
          "name": "stdout",
          "text": [
            "ANDNOT(0, 0) = 0\n",
            "ANDNOT(0, 1) = 0\n",
            "ANDNOT(1, 0) = 1\n",
            "ANDNOT(1, 1) = 0\n"
          ]
        }
      ],
      "source": [
        "import numpy as np\n",
        "\n",
        "class McCullochPittsNeuron:\n",
        "    def __init__(self, weights, threshold):\n",
        "        self.weights = weights\n",
        "        self.threshold = threshold\n",
        "\n",
        "    def activate(self, inputs):\n",
        "        weighted_sum = np.dot(inputs, self.weights) # weighted_sum = x1*w1 + x2*w2 or sum(weights * inputs)\n",
        "        return 1 if weighted_sum >= self.threshold else 0 # mathematical representation of McCullochPitts is output = { 1 if sum(weights * inputs) >= threshold, 0 otherwise }\n",
        "\n",
        "def ANDNOT(x1, x2):\n",
        "    weights = np.array([1, -1])\n",
        "    threshold = 1\n",
        "    neuron = McCullochPittsNeuron(weights, threshold)\n",
        "    return neuron.activate([x1, x2])\n",
        "\n",
        "print(\"ANDNOT(0, 0) =\", ANDNOT(0, 0))\n",
        "print(\"ANDNOT(0, 1) =\", ANDNOT(0, 1))\n",
        "print(\"ANDNOT(1, 0) =\", ANDNOT(1, 0))\n",
        "print(\"ANDNOT(1, 1) =\", ANDNOT(1, 1))"
      ]
    },
    {
      "cell_type": "code",
      "source": [
        "class McCullochPittsNeuron:\n",
        "  def __init__ (self, weights, threshold):\n",
        "    self.weights = weights\n",
        "    self.threshold = threshold\n",
        "\n",
        "  def activate(self, inputs):\n",
        "    weighted_sum = sum(w*x for w, x in zip(self.weights, inputs))\n",
        "    return int(weighted_sum >= self.threshold)\n",
        "\n",
        "def ANDNOT(inputs):\n",
        "  weights = [1,-1]\n",
        "  threshold = 1\n",
        "  neuron = McCullochPittsNeuron(weights, threshold)\n",
        "  return neuron.activate(inputs)\n",
        "\n",
        "\n",
        "print(\"ANDNOT(0, 0) =\", ANDNOT([0, 0]))\n",
        "print(\"ANDNOT(0, 1) =\", ANDNOT([0, 1]))\n",
        "print(\"ANDNOT(1, 0) =\", ANDNOT([1, 0]))\n",
        "print(\"ANDNOT(1, 1) =\", ANDNOT([1, 1]))"
      ],
      "metadata": {
        "colab": {
          "base_uri": "https://localhost:8080/"
        },
        "id": "43WuzGy5zyri",
        "outputId": "0f8a9c11-1efc-43e4-9805-091f99956082"
      },
      "execution_count": 15,
      "outputs": [
        {
          "output_type": "stream",
          "name": "stdout",
          "text": [
            "ANDNOT(0, 0) = 0\n",
            "ANDNOT(0, 1) = 0\n",
            "ANDNOT(1, 0) = 1\n",
            "ANDNOT(1, 1) = 0\n"
          ]
        }
      ]
    },
    {
      "cell_type": "code",
      "source": [],
      "metadata": {
        "id": "Hsg6Bf778jKs"
      },
      "execution_count": null,
      "outputs": []
    }
  ]
}